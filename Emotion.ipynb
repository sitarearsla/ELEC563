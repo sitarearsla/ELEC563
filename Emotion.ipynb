{
 "cells": [
  {
   "cell_type": "markdown",
   "metadata": {},
   "source": [
    "# Age, Gender and Emotion Detection\n",
    "\n",
    "### Let's load our classfiers"
   ]
  },
  {
   "cell_type": "code",
   "execution_count": 1,
   "metadata": {},
   "outputs": [
    {
     "ename": "ModuleNotFoundError",
     "evalue": "No module named 'dlib'",
     "output_type": "error",
     "traceback": [
      "\u001b[0;31m---------------------------------------------------------------------------\u001b[0m",
      "\u001b[0;31mModuleNotFoundError\u001b[0m                       Traceback (most recent call last)",
      "\u001b[0;32m<ipython-input-1-dc3aa8e1872b>\u001b[0m in \u001b[0;36m<module>\u001b[0;34m\u001b[0m\n\u001b[1;32m      1\u001b[0m \u001b[0;32mfrom\u001b[0m \u001b[0mpathlib\u001b[0m \u001b[0;32mimport\u001b[0m \u001b[0mPath\u001b[0m\u001b[0;34m\u001b[0m\u001b[0;34m\u001b[0m\u001b[0m\n\u001b[1;32m      2\u001b[0m \u001b[0;32mimport\u001b[0m \u001b[0mcv2\u001b[0m\u001b[0;34m\u001b[0m\u001b[0;34m\u001b[0m\u001b[0m\n\u001b[0;32m----> 3\u001b[0;31m \u001b[0;32mimport\u001b[0m \u001b[0mdlib\u001b[0m\u001b[0;34m\u001b[0m\u001b[0;34m\u001b[0m\u001b[0m\n\u001b[0m\u001b[1;32m      4\u001b[0m \u001b[0;32mimport\u001b[0m \u001b[0msys\u001b[0m\u001b[0;34m\u001b[0m\u001b[0;34m\u001b[0m\u001b[0m\n\u001b[1;32m      5\u001b[0m \u001b[0;32mimport\u001b[0m \u001b[0mnumpy\u001b[0m \u001b[0;32mas\u001b[0m \u001b[0mnp\u001b[0m\u001b[0;34m\u001b[0m\u001b[0;34m\u001b[0m\u001b[0m\n",
      "\u001b[0;31mModuleNotFoundError\u001b[0m: No module named 'dlib'"
     ]
    }
   ],
   "source": [
    "from pathlib import Path\n",
    "import cv2\n",
    "import dlib\n",
    "import sys\n",
    "import numpy as np\n",
    "import argparse\n",
    "from contextlib import contextmanager\n",
    "from wide_resnet import WideResNet\n",
    "\n",
    "from keras.models import load_model\n",
    "from keras.preprocessing.image import img_to_array\n",
    "\n",
    "classifier = load_model('./model/emotion_little_vgg_2.h5')\n",
    "pretrained_model = \"https://github.com/yu4u/age-gender-estimation/releases/download/v0.5/weights.28-3.73.hdf5\""
   ]
  },
  {
   "cell_type": "code",
   "execution_count": 2,
   "metadata": {},
   "outputs": [
    {
     "name": "stdout",
     "output_type": "stream",
     "text": [
      "Collecting cmake\n",
      "  Using cached cmake-3.29.3-py3-none-macosx_10_10_universal2.macosx_10_10_x86_64.macosx_11_0_arm64.macosx_11_0_universal2.whl (51.0 MB)\n",
      "Requirement already satisfied: importlib_metadata>=1.4; python_version < \"3.8\" in /Users/sitarearslanturk/opt/anaconda3/lib/python3.7/site-packages (from cmake) (1.5.0)\n",
      "Requirement already satisfied: zipp>=0.5 in /Users/sitarearslanturk/opt/anaconda3/lib/python3.7/site-packages (from importlib_metadata>=1.4; python_version < \"3.8\"->cmake) (2.2.0)\n",
      "Installing collected packages: cmake\n",
      "Successfully installed cmake-3.29.3\n"
     ]
    }
   ],
   "source": [
    "! pip install cmake"
   ]
  },
  {
   "cell_type": "code",
   "execution_count": 4,
   "metadata": {},
   "outputs": [
    {
     "name": "stdout",
     "output_type": "stream",
     "text": [
      "Defaulting to user installation because normal site-packages is not writeable\n",
      "Collecting dlib\n",
      "  Using cached dlib-19.24.4.tar.gz (3.3 MB)\n",
      "\u001b[33m  WARNING: Value for prefixed-purelib does not match. Please report this to <https://github.com/pypa/pip/issues/10151>\n",
      "  distutils: /private/var/folders/zr/n9qqy0b510d3m3s183yjss7c0000gn/T/pip-build-env-rzbebyu3/normal/lib/python3.9/site-packages\n",
      "  sysconfig: /Library/Python/3.9/site-packages\u001b[0m\n",
      "\u001b[33m  WARNING: Value for prefixed-platlib does not match. Please report this to <https://github.com/pypa/pip/issues/10151>\n",
      "  distutils: /private/var/folders/zr/n9qqy0b510d3m3s183yjss7c0000gn/T/pip-build-env-rzbebyu3/normal/lib/python3.9/site-packages\n",
      "  sysconfig: /Library/Python/3.9/site-packages\u001b[0m\n",
      "\u001b[33m  WARNING: Additional context:\n",
      "  user = False\n",
      "  home = None\n",
      "  root = None\n",
      "  prefix = '/private/var/folders/zr/n9qqy0b510d3m3s183yjss7c0000gn/T/pip-build-env-rzbebyu3/normal'\u001b[0m\n",
      "\u001b[33m  WARNING: Value for prefixed-purelib does not match. Please report this to <https://github.com/pypa/pip/issues/10151>\n",
      "  distutils: /private/var/folders/zr/n9qqy0b510d3m3s183yjss7c0000gn/T/pip-build-env-rzbebyu3/overlay/lib/python3.9/site-packages\n",
      "  sysconfig: /Library/Python/3.9/site-packages\u001b[0m\n",
      "\u001b[33m  WARNING: Value for prefixed-platlib does not match. Please report this to <https://github.com/pypa/pip/issues/10151>\n",
      "  distutils: /private/var/folders/zr/n9qqy0b510d3m3s183yjss7c0000gn/T/pip-build-env-rzbebyu3/overlay/lib/python3.9/site-packages\n",
      "  sysconfig: /Library/Python/3.9/site-packages\u001b[0m\n",
      "\u001b[33m  WARNING: Additional context:\n",
      "  user = False\n",
      "  home = None\n",
      "  root = None\n",
      "  prefix = '/private/var/folders/zr/n9qqy0b510d3m3s183yjss7c0000gn/T/pip-build-env-rzbebyu3/overlay'\u001b[0m\n",
      "  Installing build dependencies ... \u001b[?25ldone\n",
      "\u001b[?25h  Getting requirements to build wheel ... \u001b[?25ldone\n",
      "\u001b[?25h    Preparing wheel metadata ... \u001b[?25ldone\n",
      "\u001b[?25hBuilding wheels for collected packages: dlib\n",
      "  Building wheel for dlib (PEP 517) ... \u001b[?25ldone\n",
      "\u001b[?25h  Created wheel for dlib: filename=dlib-19.24.4-cp39-cp39-macosx_13_0_universal2.whl size=3466428 sha256=d8b16c4dbdb5d713c90f8f83873ce78ad64f55ca2e69cb1e57e8100ccdb1cfd4\n",
      "  Stored in directory: /Users/sitarearslanturk/Library/Caches/pip/wheels/80/cd/78/44fabe7f2c8e7f8cb338215319e1b1d8e189c54238d23cf8c5\n",
      "Successfully built dlib\n",
      "Installing collected packages: dlib\n",
      "Successfully installed dlib-19.24.4\n",
      "\u001b[33mWARNING: You are using pip version 21.2.4; however, version 24.0 is available.\n",
      "You should consider upgrading via the '/Applications/Xcode.app/Contents/Developer/usr/bin/python3 -m pip install --upgrade pip' command.\u001b[0m\n"
     ]
    }
   ],
   "source": [
    "! pip3 install dlib"
   ]
  },
  {
   "cell_type": "code",
   "execution_count": 5,
   "metadata": {},
   "outputs": [
    {
     "name": "stdout",
     "output_type": "stream",
     "text": [
      "Collecting yt-dlp\n",
      "  Downloading yt_dlp-2023.11.16-py2.py3-none-any.whl (3.1 MB)\n",
      "\u001b[K     |████████████████████████████████| 3.1 MB 42 kB/s eta 0:00:01\n",
      "\u001b[?25hCollecting websockets\n",
      "  Downloading websockets-11.0.3-cp37-cp37m-macosx_10_9_x86_64.whl (120 kB)\n",
      "\u001b[K     |████████████████████████████████| 120 kB 17 kB/s eta 0:00:01\n",
      "\u001b[?25hCollecting mutagen\n",
      "  Downloading mutagen-1.47.0-py3-none-any.whl (194 kB)\n",
      "\u001b[K     |████████████████████████████████| 194 kB 48 kB/s eta 0:00:01\n",
      "\u001b[?25hCollecting pycryptodomex\n",
      "  Downloading pycryptodomex-3.20.0-cp35-abi3-macosx_10_9_x86_64.whl (1.6 MB)\n",
      "\u001b[K     |████████████████████████████████| 1.6 MB 43 kB/s eta 0:00:01\n",
      "\u001b[?25hRequirement already satisfied: certifi in /Users/sitarearslanturk/opt/anaconda3/lib/python3.7/site-packages (from yt-dlp) (2019.11.28)\n",
      "Collecting brotli; implementation_name == \"cpython\"\n",
      "  Downloading Brotli-1.1.0-cp37-cp37m-macosx_10_9_x86_64.whl (446 kB)\n",
      "\u001b[K     |████████████████████████████████| 446 kB 34 kB/s eta 0:00:011\n",
      "\u001b[?25hCollecting urllib3<3,>=1.26.17\n",
      "  Downloading urllib3-2.0.7-py3-none-any.whl (124 kB)\n",
      "\u001b[K     |████████████████████████████████| 124 kB 27 kB/s eta 0:00:01\n",
      "\u001b[?25hCollecting requests<3,>=2.31.0\n",
      "  Downloading requests-2.31.0-py3-none-any.whl (62 kB)\n",
      "\u001b[K     |████████████████████████████████| 62 kB 33 kB/s eta 0:00:01\n",
      "\u001b[?25hRequirement already satisfied: idna<4,>=2.5 in /Users/sitarearslanturk/opt/anaconda3/lib/python3.7/site-packages (from requests<3,>=2.31.0->yt-dlp) (2.8)\n",
      "Collecting charset-normalizer<4,>=2\n",
      "  Downloading charset_normalizer-3.3.2-cp37-cp37m-macosx_10_9_x86_64.whl (118 kB)\n",
      "\u001b[K     |████████████████████████████████| 118 kB 33 kB/s eta 0:00:01\n",
      "\u001b[?25hInstalling collected packages: websockets, mutagen, pycryptodomex, brotli, urllib3, charset-normalizer, requests, yt-dlp\n",
      "  Attempting uninstall: urllib3\n",
      "    Found existing installation: urllib3 1.25.8\n",
      "    Uninstalling urllib3-1.25.8:\n",
      "      Successfully uninstalled urllib3-1.25.8\n",
      "  Attempting uninstall: requests\n",
      "    Found existing installation: requests 2.22.0\n",
      "    Uninstalling requests-2.22.0:\n",
      "      Successfully uninstalled requests-2.22.0\n",
      "Successfully installed brotli-1.1.0 charset-normalizer-3.3.2 mutagen-1.47.0 pycryptodomex-3.20.0 requests-2.31.0 urllib3-2.0.7 websockets-11.0.3 yt-dlp-2023.11.16\n"
     ]
    }
   ],
   "source": [
    "! pip install yt-dlp"
   ]
  },
  {
   "cell_type": "code",
   "execution_count": 2,
   "metadata": {},
   "outputs": [
    {
     "name": "stdout",
     "output_type": "stream",
     "text": [
      "\u001b[0;31mDeprecated Feature:\u001b[0m Support for Python version 3.7 has been deprecated. See  https://github.com/yt-dlp/yt-dlp/issues/7803  for details.\n",
      "                    You may stop receiving updates on this version at any time! Please update to Python 3.8 or above\n",
      "[youtube] Extracting URL: https://www.youtube.com/watch?v=keOaQm6RpBg\n",
      "[youtube] keOaQm6RpBg: Downloading webpage\n",
      "[youtube] keOaQm6RpBg: Downloading ios player API JSON\n",
      "[youtube] keOaQm6RpBg: Downloading android player API JSON\n",
      "\u001b[0;33mWARNING:\u001b[0m [youtube] YouTube said: ERROR - Precondition check failed.\n",
      "\u001b[0;33mWARNING:\u001b[0m [youtube] HTTP Error 400: Bad Request. Retrying (1/3)...\n",
      "[youtube] keOaQm6RpBg: Downloading android player API JSON\n",
      "\u001b[0;33mWARNING:\u001b[0m [youtube] YouTube said: ERROR - Precondition check failed.\n",
      "\u001b[0;33mWARNING:\u001b[0m [youtube] HTTP Error 400: Bad Request. Retrying (2/3)...\n",
      "[youtube] keOaQm6RpBg: Downloading android player API JSON\n",
      "\u001b[0;33mWARNING:\u001b[0m [youtube] YouTube said: ERROR - Precondition check failed.\n",
      "\u001b[0;33mWARNING:\u001b[0m [youtube] HTTP Error 400: Bad Request. Retrying (3/3)...\n",
      "[youtube] keOaQm6RpBg: Downloading android player API JSON\n",
      "\u001b[0;33mWARNING:\u001b[0m [youtube] YouTube said: ERROR - Precondition check failed.\n",
      "\u001b[0;33mWARNING:\u001b[0m [youtube] Unable to download API page: HTTP Error 400: Bad Request (caused by <HTTPError 400: Bad Request>); please report this issue on  https://github.com/yt-dlp/yt-dlp/issues?q= , filling out the appropriate issue template. Confirm you are on the latest version using  yt-dlp -U\n",
      "[youtube] keOaQm6RpBg: Downloading m3u8 information\n",
      "[info] keOaQm6RpBg: Downloading 1 format(s): 22\n",
      "[download] Destination: Ed's Heinz Ad [keOaQm6RpBg].mp4\n",
      "\u001b[K[download] 100% of    5.04MiB in \u001b[1;37m00:00:01\u001b[0m at \u001b[0;32m2.97MiB/s\u001b[0m0;33m00:00\u001b[0m0m\n"
     ]
    }
   ],
   "source": [
    "! yt-dlp https://www.youtube.com/watch?v=keOaQm6RpBg"
   ]
  },
  {
   "cell_type": "code",
   "execution_count": 6,
   "metadata": {},
   "outputs": [
    {
     "name": "stdout",
     "output_type": "stream",
     "text": [
      "\u001b[0;31mDeprecated Feature:\u001b[0m Support for Python version 3.7 has been deprecated. See  https://github.com/yt-dlp/yt-dlp/issues/7803  for details.\n",
      "                    You may stop receiving updates on this version at any time! Please update to Python 3.8 or above\n",
      "[youtube] Extracting URL: https://www.youtube.com/watch?v=bk0oury3eeU\n",
      "[youtube] bk0oury3eeU: Downloading webpage\n",
      "[youtube] bk0oury3eeU: Downloading ios player API JSON\n",
      "[youtube] bk0oury3eeU: Downloading android player API JSON\n",
      "\u001b[0;33mWARNING:\u001b[0m [youtube] YouTube said: ERROR - Precondition check failed.\n",
      "\u001b[0;33mWARNING:\u001b[0m [youtube] HTTP Error 400: Bad Request. Retrying (1/3)...\n",
      "[youtube] bk0oury3eeU: Downloading android player API JSON\n",
      "\u001b[0;33mWARNING:\u001b[0m [youtube] YouTube said: ERROR - Precondition check failed.\n",
      "\u001b[0;33mWARNING:\u001b[0m [youtube] HTTP Error 400: Bad Request. Retrying (2/3)...\n",
      "[youtube] bk0oury3eeU: Downloading android player API JSON\n",
      "\u001b[0;33mWARNING:\u001b[0m [youtube] YouTube said: ERROR - Precondition check failed.\n",
      "\u001b[0;33mWARNING:\u001b[0m [youtube] HTTP Error 400: Bad Request. Retrying (3/3)...\n",
      "[youtube] bk0oury3eeU: Downloading android player API JSON\n",
      "\u001b[0;33mWARNING:\u001b[0m [youtube] YouTube said: ERROR - Precondition check failed.\n",
      "\u001b[0;33mWARNING:\u001b[0m [youtube] Unable to download API page: HTTP Error 400: Bad Request (caused by <HTTPError 400: Bad Request>); please report this issue on  https://github.com/yt-dlp/yt-dlp/issues?q= , filling out the appropriate issue template. Confirm you are on the latest version using  yt-dlp -U\n",
      "[youtube] bk0oury3eeU: Downloading player 74a3a562\n",
      "[youtube] bk0oury3eeU: Downloading m3u8 information\n",
      "[info] bk0oury3eeU: Downloading 1 format(s): 18\n",
      "[download] Destination: LINC 2.10 - Bad Service in a Restaurant： Lesson 36 - English in Vancouver [bk0oury3eeU].mp4\n",
      "\u001b[K[download] 100% of   11.50MiB in \u001b[1;37m00:00:02\u001b[0m at \u001b[0;32m4.47MiB/s\u001b[0m0;33m00:00\u001b[0m\n"
     ]
    }
   ],
   "source": [
    "! yt-dlp -f 'bestvideo[ext=mp4]+bestaudio[ext=m4a]/mp4' https://www.youtube.com/watch?v=bk0oury3eeU"
   ]
  },
  {
   "cell_type": "code",
   "execution_count": 1,
   "metadata": {},
   "outputs": [
    {
     "name": "stdout",
     "output_type": "stream",
     "text": [
      "\u001b[0;31mDeprecated Feature:\u001b[0m Support for Python version 3.7 has been deprecated. See  https://github.com/yt-dlp/yt-dlp/issues/7803  for details.\n",
      "                    You may stop receiving updates on this version at any time! Please update to Python 3.8 or above\n",
      "[youtube] Extracting URL: https://www.youtube.com/watch?v=keOaQm6RpBg\n",
      "[youtube] keOaQm6RpBg: Downloading webpage\n",
      "[youtube] keOaQm6RpBg: Downloading ios player API JSON\n",
      "[youtube] keOaQm6RpBg: Downloading android player API JSON\n",
      "\u001b[0;33mWARNING:\u001b[0m [youtube] YouTube said: ERROR - Precondition check failed.\n",
      "\u001b[0;33mWARNING:\u001b[0m [youtube] HTTP Error 400: Bad Request. Retrying (1/3)...\n",
      "[youtube] keOaQm6RpBg: Downloading android player API JSON\n",
      "\u001b[0;33mWARNING:\u001b[0m [youtube] YouTube said: ERROR - Precondition check failed.\n",
      "\u001b[0;33mWARNING:\u001b[0m [youtube] HTTP Error 400: Bad Request. Retrying (2/3)...\n",
      "[youtube] keOaQm6RpBg: Downloading android player API JSON\n",
      "\u001b[0;33mWARNING:\u001b[0m [youtube] YouTube said: ERROR - Precondition check failed.\n",
      "\u001b[0;33mWARNING:\u001b[0m [youtube] HTTP Error 400: Bad Request. Retrying (3/3)...\n",
      "[youtube] keOaQm6RpBg: Downloading android player API JSON\n",
      "\u001b[0;33mWARNING:\u001b[0m [youtube] YouTube said: ERROR - Precondition check failed.\n",
      "\u001b[0;33mWARNING:\u001b[0m [youtube] Unable to download API page: HTTP Error 400: Bad Request (caused by <HTTPError 400: Bad Request>); please report this issue on  https://github.com/yt-dlp/yt-dlp/issues?q= , filling out the appropriate issue template. Confirm you are on the latest version using  yt-dlp -U\n",
      "[youtube] keOaQm6RpBg: Downloading m3u8 information\n",
      "[info] keOaQm6RpBg: Downloading 1 format(s): 614+140\n",
      "\u001b[0;33mWARNING:\u001b[0m You have requested merging of multiple formats but ffmpeg is not installed. The formats won't be merged\n",
      "[hlsnative] Downloading m3u8 manifest\n",
      "[hlsnative] Total fragments: 16\n",
      "[download] Destination: Ed's Heinz Ad [keOaQm6RpBg].f614.mp4\n",
      "\u001b[K[download] 100% of   10.50MiB in \u001b[1;37m00:00:04\u001b[0m at \u001b[0;32m2.24MiB/s\u001b[0m[0;33m00:00\u001b[0m (frag 17/16))\n",
      "[download] Destination: Ed's Heinz Ad [keOaQm6RpBg].f140.m4a\n",
      "\u001b[K[download] 100% of    1.22MiB in \u001b[1;37m00:00:00\u001b[0m at \u001b[0;32m1.28MiB/s\u001b[0m0;33m00:00\u001b[0m\n"
     ]
    }
   ],
   "source": [
    "! yt-dlp -f 'bestvideo[ext=mp4]+bestaudio[ext=m4a]/mp4' https://www.youtube.com/watch?v=keOaQm6RpBg"
   ]
  },
  {
   "cell_type": "markdown",
   "metadata": {},
   "source": [
    "### Detecting Age, Gender, Emotion of people in any Video"
   ]
  },
  {
   "cell_type": "code",
   "execution_count": 2,
   "metadata": {},
   "outputs": [
    {
     "name": "stdout",
     "output_type": "stream",
     "text": [
      "WARNING:tensorflow:From C:\\Users\\Arvind\\Anaconda3\\lib\\site-packages\\keras\\backend\\tensorflow_backend.py:4074: The name tf.nn.avg_pool is deprecated. Please use tf.nn.avg_pool2d instead.\n",
      "\n"
     ]
    },
    {
     "name": "stderr",
     "output_type": "stream",
     "text": [
      "WARNING:tensorflow:From C:\\Users\\Arvind\\Anaconda3\\lib\\site-packages\\keras\\backend\\tensorflow_backend.py:4074: The name tf.nn.avg_pool is deprecated. Please use tf.nn.avg_pool2d instead.\n",
      "\n"
     ]
    }
   ],
   "source": [
    "from os import listdir\n",
    "from os.path import isfile, join\n",
    "import os\n",
    "import cv2\n",
    "\n",
    "\n",
    "modhash = 'fbe63257a054c1c5466cfd7bf14646d6'\n",
    "emotion_classes = {0: 'Angry', 1: 'Fear', 2: 'Happy', 3: 'Neutral', 4: 'Sad', 5: 'Surprise'}\n",
    "\n",
    "def draw_label(image, point, label, font=cv2.FONT_HERSHEY_SIMPLEX,\n",
    "               font_scale=0.8, thickness=1):\n",
    "    size = cv2.getTextSize(label, font, font_scale, thickness)[0]\n",
    "    x, y = point\n",
    "    cv2.rectangle(image, (x, y - size[1]), (x + size[0], y), (255, 0, 0), cv2.FILLED)\n",
    "    cv2.putText(image, label, point, font, font_scale, (255, 255, 255), thickness, lineType=cv2.LINE_AA)\n",
    "    \n",
    "\n",
    "# Define our model parameters\n",
    "depth = 16\n",
    "k = 8\n",
    "weight_file = None\n",
    "margin = 0.4\n",
    "image_dir = None\n",
    "\n",
    "# Get our weight file \n",
    "if not weight_file:\n",
    "    weight_file = get_file(\"weights.28-3.73.hdf5\", pretrained_model, cache_subdir=\"pretrained_models\",\n",
    "                           file_hash=modhash, cache_dir=Path(sys.argv[0]).resolve().parent)\n",
    "# load model and weights\n",
    "img_size = 64\n",
    "model = WideResNet(img_size, depth=depth, k=k)()\n",
    "model.load_weights(weight_file)\n",
    "\n",
    "detector = dlib.get_frontal_face_detector()\n",
    "\n",
    "# Initialize Webcam\n",
    "cap = cv2.VideoCapture('sample1.mp4')\n",
    "fourcc = cv2.VideoWriter_fourcc(*'XVID')\n",
    "out = cv2.VideoWriter('output_video.mp4', fourcc, 10.0, (int(cap.get(3)), int(cap.get(4))))\n",
    "\n",
    "\n",
    "while True:\n",
    "    ret, frame = cap.read()\n",
    "    \n",
    "\n",
    "    preprocessed_faces_emo = []           \n",
    " \n",
    "    input_img = cv2.cvtColor(frame, cv2.COLOR_BGR2RGB)\n",
    "    img_h, img_w, _ = np.shape(input_img)\n",
    "    detected = detector(frame, 1)\n",
    "    faces = np.empty((len(detected), img_size, img_size, 3))\n",
    "    \n",
    "    preprocessed_faces_emo = []\n",
    "    if len(detected) > 0:\n",
    "        for i, d in enumerate(detected):\n",
    "            x1, y1, x2, y2, w, h = d.left(), d.top(), d.right() + 1, d.bottom() + 1, d.width(), d.height()\n",
    "            xw1 = max(int(x1 - margin * w), 0)\n",
    "            yw1 = max(int(y1 - margin * h), 0)\n",
    "            xw2 = min(int(x2 + margin * w), img_w - 1)\n",
    "            yw2 = min(int(y2 + margin * h), img_h - 1)\n",
    "            cv2.rectangle(frame, (x1, y1), (x2, y2), (255, 0, 0), 2)\n",
    "            # cv2.rectangle(img, (xw1, yw1), (xw2, yw2), (255, 0, 0), 2)\n",
    "            faces[i, :, :, :] = cv2.resize(frame[yw1:yw2 + 1, xw1:xw2 + 1, :], (img_size, img_size))\n",
    "            face =  frame[yw1:yw2 + 1, xw1:xw2 + 1, :]\n",
    "            face_gray_emo = cv2.cvtColor(face, cv2.COLOR_BGR2GRAY)\n",
    "            face_gray_emo = cv2.resize(face_gray_emo, (48, 48), interpolation = cv2.INTER_AREA)\n",
    "            face_gray_emo = face_gray_emo.astype(\"float\") / 255.0\n",
    "            face_gray_emo = img_to_array(face_gray_emo)\n",
    "            face_gray_emo = np.expand_dims(face_gray_emo, axis=0)\n",
    "            preprocessed_faces_emo.append(face_gray_emo)\n",
    "\n",
    "        # make a prediction for Age and Gender\n",
    "        results = model.predict(np.array(faces))\n",
    "        predicted_genders = results[0]\n",
    "        ages = np.arange(0, 101).reshape(101, 1)\n",
    "        predicted_ages = results[1].dot(ages).flatten()\n",
    "\n",
    "        # make a prediction for Emotion \n",
    "        emo_labels = []\n",
    "        for i, d in enumerate(detected):\n",
    "            preds = classifier.predict(preprocessed_faces_emo[i])[0]\n",
    "            emo_labels.append(emotion_classes[preds.argmax()])\n",
    "        \n",
    "        # draw results\n",
    "        for i, d in enumerate(detected):\n",
    "            label = \"{}, {}, {}\".format(int(predicted_ages[i]),\n",
    "                                        \"F\" if predicted_genders[i][0] > 0.4 else \"M\", emo_labels[i])\n",
    "            draw_label(frame, (d.left(), d.top()), label)\n",
    "\n",
    "    out.write(frame)\n",
    "    cv2.imshow(\"Emotion Detector\", frame)\n",
    "    if cv2.waitKey(1) == 13: #13 is the Enter Key\n",
    "        break\n",
    "\n",
    "cap.release()\n",
    "out.release()\n",
    "cv2.destroyAllWindows()      "
   ]
  },
  {
   "cell_type": "code",
   "execution_count": null,
   "metadata": {},
   "outputs": [],
   "source": []
  },
  {
   "cell_type": "code",
   "execution_count": null,
   "metadata": {},
   "outputs": [],
   "source": []
  }
 ],
 "metadata": {
  "kernelspec": {
   "display_name": "elec2",
   "language": "python",
   "name": "elec2"
  },
  "language_info": {
   "codemirror_mode": {
    "name": "ipython",
    "version": 3
   },
   "file_extension": ".py",
   "mimetype": "text/x-python",
   "name": "python",
   "nbconvert_exporter": "python",
   "pygments_lexer": "ipython3",
   "version": "3.7.6"
  }
 },
 "nbformat": 4,
 "nbformat_minor": 2
}
